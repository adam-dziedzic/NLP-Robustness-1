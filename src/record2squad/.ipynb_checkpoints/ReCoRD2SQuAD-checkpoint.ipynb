{
 "cells": [
  {
   "cell_type": "markdown",
   "metadata": {},
   "source": [
    "# Convert ReCoRD dataset into SQuAD format"
   ]
  },
  {
   "cell_type": "markdown",
   "metadata": {},
   "source": [
    "##  SQuAD format"
   ]
  },
  {
   "cell_type": "code",
   "execution_count": 25,
   "metadata": {},
   "outputs": [
    {
     "data": {
      "text/plain": [
       "['train-v1.1.json', 'dev-v1.1.json', 'cached_train_bert-base-cased_384']"
      ]
     },
     "execution_count": 25,
     "metadata": {},
     "output_type": "execute_result"
    }
   ],
   "source": [
    "import os\n",
    "squad_dir = \"../../data/SQuAD\"\n",
    "os.listdir(squad_dir)"
   ]
  },
  {
   "cell_type": "code",
   "execution_count": 8,
   "metadata": {},
   "outputs": [],
   "source": [
    "import json\n",
    "squad_train = json.load(open(os.path.join(squad_dir, \"train-v1.1.json\")))  \n",
    "squad_dev = json.load(open(os.path.join(squad_dir, \"dev-v1.1.json\")))"
   ]
  },
  {
   "cell_type": "code",
   "execution_count": 39,
   "metadata": {},
   "outputs": [
    {
     "data": {
      "text/plain": [
       "(dict_keys(['data', 'version']), '1.1')"
      ]
     },
     "execution_count": 39,
     "metadata": {},
     "output_type": "execute_result"
    }
   ],
   "source": [
    "squad_train.keys(), squad_train['version']"
   ]
  },
  {
   "cell_type": "code",
   "execution_count": 12,
   "metadata": {},
   "outputs": [
    {
     "data": {
      "text/plain": [
       "442"
      ]
     },
     "execution_count": 12,
     "metadata": {},
     "output_type": "execute_result"
    }
   ],
   "source": [
    "squad_train_data = squad_train['data']\n",
    "len(squad_train_data) # is a list"
   ]
  },
  {
   "cell_type": "code",
   "execution_count": 13,
   "metadata": {},
   "outputs": [
    {
     "data": {
      "text/plain": [
       "dict_keys(['title', 'paragraphs'])"
      ]
     },
     "execution_count": 13,
     "metadata": {},
     "output_type": "execute_result"
    }
   ],
   "source": [
    "stde = squad_train_data_example = squad_train_data[0]\n",
    "stde.keys()"
   ]
  },
  {
   "cell_type": "code",
   "execution_count": 15,
   "metadata": {},
   "outputs": [
    {
     "data": {
      "text/plain": [
       "'University_of_Notre_Dame'"
      ]
     },
     "execution_count": 15,
     "metadata": {},
     "output_type": "execute_result"
    }
   ],
   "source": [
    "stde['title']"
   ]
  },
  {
   "cell_type": "code",
   "execution_count": 17,
   "metadata": {},
   "outputs": [
    {
     "data": {
      "text/plain": [
       "55"
      ]
     },
     "execution_count": 17,
     "metadata": {},
     "output_type": "execute_result"
    }
   ],
   "source": [
    "len(stde['paragraphs'])"
   ]
  },
  {
   "cell_type": "code",
   "execution_count": 18,
   "metadata": {},
   "outputs": [
    {
     "data": {
      "text/plain": [
       "dict_keys(['context', 'qas'])"
      ]
     },
     "execution_count": 18,
     "metadata": {},
     "output_type": "execute_result"
    }
   ],
   "source": [
    "stde_paragraphs = stde['paragraphs']\n",
    "stdepe = stde_paragraphs_example = stde_paragraphs[0]\n",
    "stdepe.keys()"
   ]
  },
  {
   "cell_type": "code",
   "execution_count": 19,
   "metadata": {},
   "outputs": [
    {
     "data": {
      "text/plain": [
       "'Architecturally, the school has a Catholic character. Atop the Main Building\\'s gold dome is a golden statue of the Virgin Mary. Immediately in front of the Main Building and facing it, is a copper statue of Christ with arms upraised with the legend \"Venite Ad Me Omnes\". Next to the Main Building is the Basilica of the Sacred Heart. Immediately behind the basilica is the Grotto, a Marian place of prayer and reflection. It is a replica of the grotto at Lourdes, France where the Virgin Mary reputedly appeared to Saint Bernadette Soubirous in 1858. At the end of the main drive (and in a direct line that connects through 3 statues and the Gold Dome), is a simple, modern stone statue of Mary.'"
      ]
     },
     "execution_count": 19,
     "metadata": {},
     "output_type": "execute_result"
    }
   ],
   "source": [
    "stdepe['context']"
   ]
  },
  {
   "cell_type": "code",
   "execution_count": 20,
   "metadata": {},
   "outputs": [
    {
     "data": {
      "text/plain": [
       "[{'answers': [{'answer_start': 515, 'text': 'Saint Bernadette Soubirous'}],\n",
       "  'question': 'To whom did the Virgin Mary allegedly appear in 1858 in Lourdes France?',\n",
       "  'id': '5733be284776f41900661182'},\n",
       " {'answers': [{'answer_start': 188, 'text': 'a copper statue of Christ'}],\n",
       "  'question': 'What is in front of the Notre Dame Main Building?',\n",
       "  'id': '5733be284776f4190066117f'},\n",
       " {'answers': [{'answer_start': 279, 'text': 'the Main Building'}],\n",
       "  'question': 'The Basilica of the Sacred heart at Notre Dame is beside to which structure?',\n",
       "  'id': '5733be284776f41900661180'},\n",
       " {'answers': [{'answer_start': 381,\n",
       "    'text': 'a Marian place of prayer and reflection'}],\n",
       "  'question': 'What is the Grotto at Notre Dame?',\n",
       "  'id': '5733be284776f41900661181'},\n",
       " {'answers': [{'answer_start': 92,\n",
       "    'text': 'a golden statue of the Virgin Mary'}],\n",
       "  'question': 'What sits on top of the Main Building at Notre Dame?',\n",
       "  'id': '5733be284776f4190066117e'}]"
      ]
     },
     "execution_count": 20,
     "metadata": {},
     "output_type": "execute_result"
    }
   ],
   "source": [
    "stdepe['qas']"
   ]
  },
  {
   "cell_type": "markdown",
   "metadata": {},
   "source": [
    "## ReCoRD Format"
   ]
  },
  {
   "cell_type": "code",
   "execution_count": 26,
   "metadata": {},
   "outputs": [
    {
     "data": {
      "text/plain": [
       "['ReCoRD_CNN_origin',\n",
       " 'test.jsonl',\n",
       " 'val.jsonl',\n",
       " 'train.jsonl',\n",
       " 'ReCoRD_Daily_origin']"
      ]
     },
     "execution_count": 26,
     "metadata": {},
     "output_type": "execute_result"
    }
   ],
   "source": [
    "record_dir = \"../../data/record-sg\"\n",
    "os.listdir(record_dir)"
   ]
  },
  {
   "cell_type": "code",
   "execution_count": 29,
   "metadata": {},
   "outputs": [
    {
     "data": {
      "text/plain": [
       "(37286, 4164)"
      ]
     },
     "execution_count": 29,
     "metadata": {},
     "output_type": "execute_result"
    }
   ],
   "source": [
    "record_train = [json.loads(l) for l in open(os.path.join(record_dir, \"train.jsonl\"))]\n",
    "record_dev = [json.loads(l) for l in open(os.path.join(record_dir, \"val.jsonl\"))]\n",
    "len(record_train), len(record_dev)"
   ]
  },
  {
   "cell_type": "code",
   "execution_count": 30,
   "metadata": {},
   "outputs": [
    {
     "data": {
      "text/plain": [
       "dict_keys(['source', 'passage', 'qas', 'idx'])"
      ]
     },
     "execution_count": 30,
     "metadata": {},
     "output_type": "execute_result"
    }
   ],
   "source": [
    "record_train_example = record_train[0]\n",
    "record_train_example.keys()"
   ]
  },
  {
   "cell_type": "code",
   "execution_count": 35,
   "metadata": {},
   "outputs": [
    {
     "data": {
      "text/plain": [
       "('Daily mail', 0, dict_keys(['text', 'entities']))"
      ]
     },
     "execution_count": 35,
     "metadata": {},
     "output_type": "execute_result"
    }
   ],
   "source": [
    "record_train_example['source'], record_train_example['idx'], record_train_example['passage'].keys()"
   ]
  },
  {
   "cell_type": "code",
   "execution_count": 36,
   "metadata": {},
   "outputs": [
    {
     "data": {
      "text/plain": [
       "{'text': \"The harrowing stories of women and children locked up for so-called 'moral crimes' in Afghanistan's notorious female prison have been revealed after cameras were allowed inside. Mariam has been in Badam Bagh prison for three months after she shot a man who just raped her at gunpoint and then turned the weapon on herself - but she has yet to been charged. Nuria has eight months left to serve of her sentence for trying to divorce her husband. She gave birth in prison to her son and they share a cell together. Scroll down for video Nuria was jailed for trying to divorce her husband. Her son is one of 62 children living at Badam Bagh prison\\n@highlight\\nMost of the 202 Badam Bagh inmates are jailed for so-called 'moral crimes'\\n@highlight\\nCrimes include leaving their husbands or refusing an arrange marriage\\n@highlight\\n62 children live there and share cells with their mothers and five others\",\n",
       " 'entities': [{'start': 86, 'end': 96},\n",
       "  {'start': 178, 'end': 183},\n",
       "  {'start': 197, 'end': 206},\n",
       "  {'start': 357, 'end': 361},\n",
       "  {'start': 535, 'end': 539},\n",
       "  {'start': 627, 'end': 636},\n",
       "  {'start': 672, 'end': 681}]}"
      ]
     },
     "execution_count": 36,
     "metadata": {},
     "output_type": "execute_result"
    }
   ],
   "source": [
    "record_train_example['passage']"
   ]
  },
  {
   "cell_type": "code",
   "execution_count": 37,
   "metadata": {},
   "outputs": [
    {
     "data": {
      "text/plain": [
       "[{'query': 'The baby she gave birth to is her husbands and he has even offered to have the courts set her free if she returns, but @placeholder has refused.',\n",
       "  'answers': [{'start': 535, 'end': 539, 'text': 'Nuria'}],\n",
       "  'idx': 0}]"
      ]
     },
     "execution_count": 37,
     "metadata": {},
     "output_type": "execute_result"
    }
   ],
   "source": [
    "record_train_example['qas']"
   ]
  },
  {
   "cell_type": "markdown",
   "metadata": {},
   "source": [
    "## ReCoRD -> SQuAD"
   ]
  },
  {
   "cell_type": "code",
   "execution_count": 44,
   "metadata": {},
   "outputs": [
    {
     "data": {
      "text/plain": [
       "({'source': 'Daily mail',\n",
       "  'passage': {'text': \"The harrowing stories of women and children locked up for so-called 'moral crimes' in Afghanistan's notorious female prison have been revealed after cameras were allowed inside. Mariam has been in Badam Bagh prison for three months after she shot a man who just raped her at gunpoint and then turned the weapon on herself - but she has yet to been charged. Nuria has eight months left to serve of her sentence for trying to divorce her husband. She gave birth in prison to her son and they share a cell together. Scroll down for video Nuria was jailed for trying to divorce her husband. Her son is one of 62 children living at Badam Bagh prison\\n@highlight\\nMost of the 202 Badam Bagh inmates are jailed for so-called 'moral crimes'\\n@highlight\\nCrimes include leaving their husbands or refusing an arrange marriage\\n@highlight\\n62 children live there and share cells with their mothers and five others\",\n",
       "   'entities': [{'start': 86, 'end': 96},\n",
       "    {'start': 178, 'end': 183},\n",
       "    {'start': 197, 'end': 206},\n",
       "    {'start': 357, 'end': 361},\n",
       "    {'start': 535, 'end': 539},\n",
       "    {'start': 627, 'end': 636},\n",
       "    {'start': 672, 'end': 681}]},\n",
       "  'qas': [{'query': 'The baby she gave birth to is her husbands and he has even offered to have the courts set her free if she returns, but @placeholder has refused.',\n",
       "    'answers': [{'start': 535, 'end': 539, 'text': 'Nuria'}],\n",
       "    'idx': 0}],\n",
       "  'idx': 0},\n",
       " {'title': 'From Daily mail',\n",
       "  'paragraphs': [{'context': \"The harrowing stories of women and children locked up for so-called 'moral crimes' in Afghanistan's notorious female prison have been revealed after cameras were allowed inside. Mariam has been in Badam Bagh prison for three months after she shot a man who just raped her at gunpoint and then turned the weapon on herself - but she has yet to been charged. Nuria has eight months left to serve of her sentence for trying to divorce her husband. She gave birth in prison to her son and they share a cell together. Scroll down for video Nuria was jailed for trying to divorce her husband. Her son is one of 62 children living at Badam Bagh prison\\n@highlight\\nMost of the 202 Badam Bagh inmates are jailed for so-called 'moral crimes'\\n@highlight\\nCrimes include leaving their husbands or refusing an arrange marriage\\n@highlight\\n62 children live there and share cells with their mothers and five others\",\n",
       "    'qas': [{'question': 'The baby she gave birth to is her husbands and he has even offered to have the courts set her free if she returns, but @placeholder has refused.',\n",
       "      'answers': [{'answer_start': 535, 'text': 'Nuria'}]}]}]})"
      ]
     },
     "execution_count": 44,
     "metadata": {},
     "output_type": "execute_result"
    }
   ],
   "source": [
    "def record2squad(example, isTrain=False):\n",
    "    def convertQA(qa):\n",
    "        def convertA(a):\n",
    "            return {\n",
    "                \"answer_start\": a['start'],\n",
    "                \"text\": a['text'],\n",
    "            }\n",
    "        return {\n",
    "            \"question\": qa['query'],\n",
    "            \"answers\": [convertA(qa['answers'][0])] if isTrain else [convertA(a) for a in qa['answers']]\n",
    "        }\n",
    "    para = {\n",
    "        \"context\": example['passage']['text'],\n",
    "        \"qas\": [convertQA(qa) for qa in example['qas']]\n",
    "    }\n",
    "    data = {\n",
    "        \"title\": \"From \"+example['source'],\n",
    "        \"paragraphs\": [para],\n",
    "    }\n",
    "    return data\n",
    "record_train_example, record2squad(record_train_example, isTrain=True)"
   ]
  },
  {
   "cell_type": "code",
   "execution_count": null,
   "metadata": {},
   "outputs": [],
   "source": [
    "target_dir = \"../../data/record-squad\"\n",
    "if not os.path.exists(target_dir):\n",
    "    os.makedirs(target_dir)\n",
    "\n",
    "new_train = {\n",
    "    \n",
    "}\n",
    "json.dump(new_train, open(os.path.join(target_dir, \"train.json\"), \"w\"))\n",
    "json.dump(new_dev, open(os.path.join(target_dir, \"dev.json\"), \"w\"))"
   ]
  }
 ],
 "metadata": {
  "kernelspec": {
   "display_name": "Python 3",
   "language": "python",
   "name": "python3"
  },
  "language_info": {
   "codemirror_mode": {
    "name": "ipython",
    "version": 3
   },
   "file_extension": ".py",
   "mimetype": "text/x-python",
   "name": "python",
   "nbconvert_exporter": "python",
   "pygments_lexer": "ipython3",
   "version": "3.7.3"
  }
 },
 "nbformat": 4,
 "nbformat_minor": 2
}
